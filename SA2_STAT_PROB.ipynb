{
 "cells": [
  {
   "cell_type": "markdown",
   "metadata": {},
   "source": [
    "# ITEM1"
   ]
  },
  {
   "cell_type": "code",
   "execution_count": 1,
   "metadata": {},
   "outputs": [
    {
     "data": {
      "text/plain": [
       "Index(['Timestamp', 'Open', 'High', 'Low', 'Close', 'Volume_(BTC)',\n",
       "       'Volume_(Currency)', 'Weighted_Price'],\n",
       "      dtype='object')"
      ]
     },
     "metadata": {},
     "output_type": "display_data"
    }
   ],
   "source": [
    "import numpy as np \n",
    "import pandas as pd\n",
    "\n",
    "df = pd.read_csv(\"C:/SA2/BTC.csv\")\n",
    "display(df.columns)"
   ]
  },
  {
   "cell_type": "code",
   "execution_count": 2,
   "metadata": {},
   "outputs": [],
   "source": [
    "import pandas as pd\n",
    "import matplotlib.pyplot as plt"
   ]
  },
  {
   "cell_type": "markdown",
   "metadata": {},
   "source": [
    "# CLEANING DATA"
   ]
  },
  {
   "cell_type": "code",
   "execution_count": 18,
   "metadata": {},
   "outputs": [
    {
     "data": {
      "text/html": [
       "<div>\n",
       "<style scoped>\n",
       "    .dataframe tbody tr th:only-of-type {\n",
       "        vertical-align: middle;\n",
       "    }\n",
       "\n",
       "    .dataframe tbody tr th {\n",
       "        vertical-align: top;\n",
       "    }\n",
       "\n",
       "    .dataframe thead th {\n",
       "        text-align: right;\n",
       "    }\n",
       "</style>\n",
       "<table border=\"1\" class=\"dataframe\">\n",
       "  <thead>\n",
       "    <tr style=\"text-align: right;\">\n",
       "      <th></th>\n",
       "      <th>Timestamp</th>\n",
       "      <th>Open</th>\n",
       "      <th>High</th>\n",
       "      <th>Low</th>\n",
       "      <th>Close</th>\n",
       "      <th>Volume_(BTC)</th>\n",
       "      <th>Volume_(Currency)</th>\n",
       "      <th>Weighted_Price</th>\n",
       "      <th>returns</th>\n",
       "    </tr>\n",
       "  </thead>\n",
       "  <tbody>\n",
       "    <tr>\n",
       "      <th>0</th>\n",
       "      <td>1325317920</td>\n",
       "      <td>4.39</td>\n",
       "      <td>4.39</td>\n",
       "      <td>4.39</td>\n",
       "      <td>4.39</td>\n",
       "      <td>0.455581</td>\n",
       "      <td>2.00</td>\n",
       "      <td>4.39</td>\n",
       "      <td>0.0</td>\n",
       "    </tr>\n",
       "    <tr>\n",
       "      <th>478</th>\n",
       "      <td>1325346600</td>\n",
       "      <td>4.39</td>\n",
       "      <td>4.39</td>\n",
       "      <td>4.39</td>\n",
       "      <td>4.39</td>\n",
       "      <td>48.000000</td>\n",
       "      <td>210.72</td>\n",
       "      <td>4.39</td>\n",
       "      <td>0.0</td>\n",
       "    </tr>\n",
       "  </tbody>\n",
       "</table>\n",
       "</div>"
      ],
      "text/plain": [
       "      Timestamp  Open  High   Low  Close  Volume_(BTC)  Volume_(Currency)  \\\n",
       "0    1325317920  4.39  4.39  4.39   4.39      0.455581               2.00   \n",
       "478  1325346600  4.39  4.39  4.39   4.39     48.000000             210.72   \n",
       "\n",
       "     Weighted_Price  returns  \n",
       "0              4.39      0.0  \n",
       "478            4.39      0.0  "
      ]
     },
     "metadata": {},
     "output_type": "display_data"
    }
   ],
   "source": [
    "df[\"returns\"] = df[\"Open\"] - df[\"Close\"]\n",
    "dfc= df.dropna()\n",
    "display(dfc.head(2))"
   ]
  },
  {
   "cell_type": "markdown",
   "metadata": {},
   "source": [
    "# MAKING HISTOGRAM"
   ]
  },
  {
   "cell_type": "code",
   "execution_count": 32,
   "metadata": {},
   "outputs": [
    {
     "data": {
      "text/plain": [
       "(array([1.000000e+00, 0.000000e+00, 0.000000e+00, 0.000000e+00,\n",
       "        0.000000e+00, 0.000000e+00, 0.000000e+00, 0.000000e+00,\n",
       "        0.000000e+00, 0.000000e+00, 0.000000e+00, 0.000000e+00,\n",
       "        0.000000e+00, 0.000000e+00, 0.000000e+00, 0.000000e+00,\n",
       "        0.000000e+00, 0.000000e+00, 0.000000e+00, 0.000000e+00,\n",
       "        0.000000e+00, 0.000000e+00, 0.000000e+00, 1.000000e+00,\n",
       "        0.000000e+00, 0.000000e+00, 0.000000e+00, 0.000000e+00,\n",
       "        1.000000e+00, 0.000000e+00, 0.000000e+00, 0.000000e+00,\n",
       "        0.000000e+00, 1.000000e+00, 0.000000e+00, 0.000000e+00,\n",
       "        0.000000e+00, 0.000000e+00, 0.000000e+00, 0.000000e+00,\n",
       "        0.000000e+00, 0.000000e+00, 0.000000e+00, 0.000000e+00,\n",
       "        0.000000e+00, 0.000000e+00, 0.000000e+00, 0.000000e+00,\n",
       "        0.000000e+00, 0.000000e+00, 0.000000e+00, 0.000000e+00,\n",
       "        1.000000e+00, 0.000000e+00, 0.000000e+00, 0.000000e+00,\n",
       "        0.000000e+00, 0.000000e+00, 0.000000e+00, 0.000000e+00,\n",
       "        0.000000e+00, 0.000000e+00, 0.000000e+00, 0.000000e+00,\n",
       "        0.000000e+00, 0.000000e+00, 0.000000e+00, 0.000000e+00,\n",
       "        0.000000e+00, 0.000000e+00, 0.000000e+00, 0.000000e+00,\n",
       "        0.000000e+00, 0.000000e+00, 0.000000e+00, 0.000000e+00,\n",
       "        0.000000e+00, 0.000000e+00, 0.000000e+00, 0.000000e+00,\n",
       "        0.000000e+00, 0.000000e+00, 0.000000e+00, 0.000000e+00,\n",
       "        0.000000e+00, 0.000000e+00, 0.000000e+00, 0.000000e+00,\n",
       "        0.000000e+00, 0.000000e+00, 1.000000e+00, 0.000000e+00,\n",
       "        0.000000e+00, 0.000000e+00, 1.000000e+00, 0.000000e+00,\n",
       "        0.000000e+00, 0.000000e+00, 0.000000e+00, 0.000000e+00,\n",
       "        0.000000e+00, 0.000000e+00, 0.000000e+00, 0.000000e+00,\n",
       "        0.000000e+00, 0.000000e+00, 0.000000e+00, 0.000000e+00,\n",
       "        0.000000e+00, 0.000000e+00, 0.000000e+00, 0.000000e+00,\n",
       "        0.000000e+00, 0.000000e+00, 0.000000e+00, 0.000000e+00,\n",
       "        0.000000e+00, 0.000000e+00, 0.000000e+00, 0.000000e+00,\n",
       "        0.000000e+00, 0.000000e+00, 0.000000e+00, 0.000000e+00,\n",
       "        0.000000e+00, 0.000000e+00, 0.000000e+00, 0.000000e+00,\n",
       "        0.000000e+00, 0.000000e+00, 0.000000e+00, 0.000000e+00,\n",
       "        0.000000e+00, 0.000000e+00, 0.000000e+00, 1.000000e+00,\n",
       "        0.000000e+00, 0.000000e+00, 0.000000e+00, 0.000000e+00,\n",
       "        0.000000e+00, 0.000000e+00, 0.000000e+00, 0.000000e+00,\n",
       "        1.000000e+00, 0.000000e+00, 0.000000e+00, 0.000000e+00,\n",
       "        0.000000e+00, 0.000000e+00, 0.000000e+00, 0.000000e+00,\n",
       "        0.000000e+00, 0.000000e+00, 0.000000e+00, 0.000000e+00,\n",
       "        0.000000e+00, 0.000000e+00, 0.000000e+00, 0.000000e+00,\n",
       "        0.000000e+00, 0.000000e+00, 0.000000e+00, 0.000000e+00,\n",
       "        0.000000e+00, 0.000000e+00, 2.000000e+00, 0.000000e+00,\n",
       "        1.000000e+00, 0.000000e+00, 0.000000e+00, 0.000000e+00,\n",
       "        0.000000e+00, 1.000000e+00, 0.000000e+00, 0.000000e+00,\n",
       "        0.000000e+00, 1.000000e+00, 0.000000e+00, 1.000000e+00,\n",
       "        0.000000e+00, 0.000000e+00, 0.000000e+00, 1.000000e+00,\n",
       "        1.000000e+00, 0.000000e+00, 0.000000e+00, 1.000000e+00,\n",
       "        0.000000e+00, 1.000000e+00, 0.000000e+00, 1.000000e+00,\n",
       "        0.000000e+00, 3.000000e+00, 1.000000e+00, 0.000000e+00,\n",
       "        0.000000e+00, 1.000000e+00, 1.000000e+00, 0.000000e+00,\n",
       "        3.000000e+00, 2.000000e+00, 0.000000e+00, 0.000000e+00,\n",
       "        1.000000e+00, 1.000000e+00, 0.000000e+00, 0.000000e+00,\n",
       "        0.000000e+00, 1.000000e+00, 1.000000e+00, 1.000000e+00,\n",
       "        2.000000e+00, 0.000000e+00, 0.000000e+00, 2.000000e+00,\n",
       "        2.000000e+00, 3.000000e+00, 0.000000e+00, 1.000000e+00,\n",
       "        0.000000e+00, 0.000000e+00, 0.000000e+00, 2.000000e+00,\n",
       "        0.000000e+00, 0.000000e+00, 1.000000e+00, 2.000000e+00,\n",
       "        0.000000e+00, 1.000000e+00, 2.000000e+00, 0.000000e+00,\n",
       "        2.000000e+00, 2.000000e+00, 1.000000e+00, 1.000000e+00,\n",
       "        1.000000e+00, 2.000000e+00, 2.000000e+00, 3.000000e+00,\n",
       "        2.000000e+00, 3.000000e+00, 1.000000e+00, 2.000000e+00,\n",
       "        0.000000e+00, 1.000000e+00, 2.000000e+00, 3.000000e+00,\n",
       "        3.000000e+00, 1.000000e+00, 1.000000e+00, 0.000000e+00,\n",
       "        1.000000e+00, 0.000000e+00, 1.000000e+00, 3.000000e+00,\n",
       "        2.000000e+00, 0.000000e+00, 2.000000e+00, 1.000000e+00,\n",
       "        2.000000e+00, 2.000000e+00, 2.000000e+00, 4.000000e+00,\n",
       "        5.000000e+00, 1.000000e+00, 2.000000e+00, 6.000000e+00,\n",
       "        2.000000e+00, 3.000000e+00, 8.000000e+00, 1.000000e+00,\n",
       "        6.000000e+00, 6.000000e+00, 3.000000e+00, 5.000000e+00,\n",
       "        7.000000e+00, 2.000000e+00, 1.000000e+01, 1.000000e+01,\n",
       "        1.100000e+01, 8.000000e+00, 7.000000e+00, 1.100000e+01,\n",
       "        1.000000e+01, 8.000000e+00, 4.000000e+00, 8.000000e+00,\n",
       "        1.100000e+01, 7.000000e+00, 1.100000e+01, 1.100000e+01,\n",
       "        1.300000e+01, 1.100000e+01, 7.000000e+00, 8.000000e+00,\n",
       "        1.500000e+01, 2.000000e+01, 1.200000e+01, 1.500000e+01,\n",
       "        2.000000e+01, 1.700000e+01, 1.600000e+01, 2.000000e+01,\n",
       "        1.700000e+01, 1.600000e+01, 2.500000e+01, 2.700000e+01,\n",
       "        2.500000e+01, 2.500000e+01, 2.400000e+01, 3.300000e+01,\n",
       "        4.300000e+01, 2.700000e+01, 3.100000e+01, 4.500000e+01,\n",
       "        3.400000e+01, 3.100000e+01, 3.900000e+01, 4.600000e+01,\n",
       "        5.000000e+01, 5.900000e+01, 6.300000e+01, 4.700000e+01,\n",
       "        5.800000e+01, 7.800000e+01, 6.400000e+01, 7.400000e+01,\n",
       "        7.000000e+01, 8.200000e+01, 1.030000e+02, 6.700000e+01,\n",
       "        1.080000e+02, 1.000000e+02, 9.700000e+01, 1.230000e+02,\n",
       "        1.210000e+02, 1.210000e+02, 1.540000e+02, 1.490000e+02,\n",
       "        1.690000e+02, 1.680000e+02, 1.870000e+02, 2.140000e+02,\n",
       "        2.130000e+02, 2.460000e+02, 2.460000e+02, 2.840000e+02,\n",
       "        3.160000e+02, 3.570000e+02, 3.790000e+02, 3.620000e+02,\n",
       "        4.440000e+02, 4.790000e+02, 4.870000e+02, 5.810000e+02,\n",
       "        5.980000e+02, 6.320000e+02, 7.180000e+02, 8.100000e+02,\n",
       "        9.520000e+02, 1.001000e+03, 1.047000e+03, 1.226000e+03,\n",
       "        1.300000e+03, 1.480000e+03, 1.619000e+03, 1.764000e+03,\n",
       "        2.040000e+03, 2.228000e+03, 2.589000e+03, 3.111000e+03,\n",
       "        3.288000e+03, 3.648000e+03, 4.463000e+03, 4.911000e+03,\n",
       "        5.927000e+03, 6.800000e+03, 8.617000e+03, 1.032900e+04,\n",
       "        1.259100e+04, 1.803200e+04, 2.483300e+04, 3.880000e+04,\n",
       "        6.598300e+04, 1.130420e+05, 1.997950e+05, 1.855852e+06,\n",
       "        6.515120e+05, 1.972240e+05, 1.151830e+05, 6.859000e+04,\n",
       "        3.987300e+04, 2.496700e+04, 1.766000e+04, 1.263100e+04,\n",
       "        1.002800e+04, 8.537000e+03, 6.690000e+03, 5.739000e+03,\n",
       "        4.836000e+03, 4.236000e+03, 3.770000e+03, 3.273000e+03,\n",
       "        3.149000e+03, 2.628000e+03, 2.271000e+03, 2.063000e+03,\n",
       "        1.800000e+03, 1.655000e+03, 1.496000e+03, 1.271000e+03,\n",
       "        1.175000e+03, 9.470000e+02, 9.620000e+02, 8.700000e+02,\n",
       "        7.970000e+02, 7.730000e+02, 6.770000e+02, 6.110000e+02,\n",
       "        6.020000e+02, 5.350000e+02, 4.470000e+02, 4.130000e+02,\n",
       "        4.100000e+02, 3.780000e+02, 3.250000e+02, 3.370000e+02,\n",
       "        2.830000e+02, 2.570000e+02, 2.410000e+02, 2.230000e+02,\n",
       "        2.180000e+02, 1.800000e+02, 1.690000e+02, 1.660000e+02,\n",
       "        1.760000e+02, 1.820000e+02, 1.430000e+02, 1.270000e+02,\n",
       "        1.270000e+02, 1.140000e+02, 8.400000e+01, 8.000000e+01,\n",
       "        1.020000e+02, 8.400000e+01, 7.600000e+01, 6.200000e+01,\n",
       "        6.800000e+01, 5.500000e+01, 7.900000e+01, 5.700000e+01,\n",
       "        5.700000e+01, 5.800000e+01, 4.600000e+01, 6.700000e+01,\n",
       "        3.900000e+01, 5.400000e+01, 4.200000e+01, 3.800000e+01,\n",
       "        4.200000e+01, 3.100000e+01, 3.500000e+01, 2.200000e+01,\n",
       "        3.200000e+01, 2.700000e+01, 2.800000e+01, 2.800000e+01,\n",
       "        1.800000e+01, 2.800000e+01, 1.800000e+01, 2.400000e+01,\n",
       "        2.300000e+01, 9.000000e+00, 1.600000e+01, 1.600000e+01,\n",
       "        1.300000e+01, 7.000000e+00, 1.000000e+01, 1.800000e+01,\n",
       "        1.100000e+01, 8.000000e+00, 1.500000e+01, 9.000000e+00,\n",
       "        9.000000e+00, 1.200000e+01, 1.000000e+01, 1.200000e+01,\n",
       "        1.600000e+01, 9.000000e+00, 1.100000e+01, 4.000000e+00,\n",
       "        9.000000e+00, 6.000000e+00, 1.200000e+01, 5.000000e+00,\n",
       "        5.000000e+00, 5.000000e+00, 3.000000e+00, 5.000000e+00,\n",
       "        1.000000e+01, 3.000000e+00, 6.000000e+00, 2.000000e+00,\n",
       "        6.000000e+00, 3.000000e+00, 5.000000e+00, 4.000000e+00,\n",
       "        2.000000e+00, 3.000000e+00, 5.000000e+00, 2.000000e+00,\n",
       "        4.000000e+00, 2.000000e+00, 5.000000e+00, 2.000000e+00,\n",
       "        1.000000e+00, 3.000000e+00, 4.000000e+00, 2.000000e+00,\n",
       "        4.000000e+00, 2.000000e+00, 4.000000e+00, 1.000000e+00,\n",
       "        1.000000e+00, 4.000000e+00, 0.000000e+00, 0.000000e+00,\n",
       "        0.000000e+00, 5.000000e+00, 1.000000e+00, 1.000000e+00,\n",
       "        1.000000e+00, 1.000000e+00, 1.000000e+00, 1.000000e+00,\n",
       "        0.000000e+00, 3.000000e+00, 2.000000e+00, 0.000000e+00,\n",
       "        1.000000e+00, 2.000000e+00, 1.000000e+00, 1.000000e+00,\n",
       "        2.000000e+00, 0.000000e+00, 1.000000e+00, 2.000000e+00,\n",
       "        1.000000e+00, 1.000000e+00, 1.000000e+00, 0.000000e+00,\n",
       "        0.000000e+00, 1.000000e+00, 0.000000e+00, 0.000000e+00,\n",
       "        1.000000e+00, 1.000000e+00, 0.000000e+00, 0.000000e+00,\n",
       "        2.000000e+00, 0.000000e+00, 2.000000e+00, 0.000000e+00,\n",
       "        0.000000e+00, 0.000000e+00, 1.000000e+00, 0.000000e+00,\n",
       "        0.000000e+00, 1.000000e+00, 0.000000e+00, 0.000000e+00,\n",
       "        0.000000e+00, 1.000000e+00, 1.000000e+00, 0.000000e+00,\n",
       "        0.000000e+00, 1.000000e+00, 0.000000e+00, 1.000000e+00,\n",
       "        0.000000e+00, 1.000000e+00, 1.000000e+00, 0.000000e+00,\n",
       "        0.000000e+00, 0.000000e+00, 0.000000e+00, 0.000000e+00,\n",
       "        0.000000e+00, 0.000000e+00, 0.000000e+00, 2.000000e+00,\n",
       "        1.000000e+00, 0.000000e+00, 0.000000e+00, 1.000000e+00,\n",
       "        0.000000e+00, 1.000000e+00, 1.000000e+00, 0.000000e+00,\n",
       "        0.000000e+00, 1.000000e+00, 0.000000e+00, 0.000000e+00,\n",
       "        0.000000e+00, 0.000000e+00, 0.000000e+00, 0.000000e+00,\n",
       "        1.000000e+00, 0.000000e+00, 0.000000e+00, 1.000000e+00,\n",
       "        0.000000e+00, 0.000000e+00, 0.000000e+00, 0.000000e+00,\n",
       "        0.000000e+00, 0.000000e+00, 0.000000e+00, 0.000000e+00,\n",
       "        0.000000e+00, 0.000000e+00, 0.000000e+00, 0.000000e+00,\n",
       "        0.000000e+00, 1.000000e+00, 0.000000e+00, 1.000000e+00,\n",
       "        0.000000e+00, 0.000000e+00, 0.000000e+00, 0.000000e+00,\n",
       "        0.000000e+00, 0.000000e+00, 0.000000e+00, 0.000000e+00,\n",
       "        1.000000e+00, 0.000000e+00, 0.000000e+00, 0.000000e+00,\n",
       "        0.000000e+00, 1.000000e+00, 0.000000e+00, 0.000000e+00,\n",
       "        0.000000e+00, 1.000000e+00, 0.000000e+00, 0.000000e+00,\n",
       "        1.000000e+00, 1.000000e+00, 0.000000e+00, 0.000000e+00,\n",
       "        0.000000e+00, 0.000000e+00, 0.000000e+00, 0.000000e+00,\n",
       "        0.000000e+00, 0.000000e+00, 0.000000e+00, 0.000000e+00,\n",
       "        0.000000e+00, 0.000000e+00, 1.000000e+00, 0.000000e+00,\n",
       "        0.000000e+00, 0.000000e+00, 0.000000e+00, 0.000000e+00,\n",
       "        0.000000e+00, 0.000000e+00, 0.000000e+00, 0.000000e+00,\n",
       "        0.000000e+00, 0.000000e+00, 0.000000e+00, 0.000000e+00,\n",
       "        0.000000e+00, 0.000000e+00, 0.000000e+00, 0.000000e+00,\n",
       "        0.000000e+00, 0.000000e+00, 0.000000e+00, 0.000000e+00,\n",
       "        0.000000e+00, 0.000000e+00, 0.000000e+00, 0.000000e+00,\n",
       "        0.000000e+00, 0.000000e+00, 0.000000e+00, 0.000000e+00,\n",
       "        0.000000e+00, 0.000000e+00, 0.000000e+00, 0.000000e+00,\n",
       "        0.000000e+00, 0.000000e+00, 0.000000e+00, 0.000000e+00,\n",
       "        0.000000e+00, 0.000000e+00, 0.000000e+00, 0.000000e+00,\n",
       "        0.000000e+00, 0.000000e+00, 0.000000e+00, 0.000000e+00,\n",
       "        1.000000e+00, 0.000000e+00, 0.000000e+00, 0.000000e+00,\n",
       "        0.000000e+00, 0.000000e+00, 1.000000e+00, 0.000000e+00,\n",
       "        0.000000e+00, 0.000000e+00, 0.000000e+00, 0.000000e+00,\n",
       "        0.000000e+00, 0.000000e+00, 0.000000e+00, 0.000000e+00,\n",
       "        0.000000e+00, 0.000000e+00, 0.000000e+00, 0.000000e+00,\n",
       "        0.000000e+00, 0.000000e+00, 0.000000e+00, 0.000000e+00,\n",
       "        0.000000e+00, 0.000000e+00, 0.000000e+00, 0.000000e+00,\n",
       "        0.000000e+00, 0.000000e+00, 0.000000e+00, 0.000000e+00,\n",
       "        0.000000e+00, 0.000000e+00, 0.000000e+00, 0.000000e+00,\n",
       "        0.000000e+00, 0.000000e+00, 0.000000e+00, 0.000000e+00,\n",
       "        0.000000e+00, 0.000000e+00, 0.000000e+00, 0.000000e+00,\n",
       "        0.000000e+00, 0.000000e+00, 0.000000e+00, 0.000000e+00,\n",
       "        0.000000e+00, 0.000000e+00, 0.000000e+00, 0.000000e+00,\n",
       "        0.000000e+00, 0.000000e+00, 0.000000e+00, 0.000000e+00,\n",
       "        0.000000e+00, 0.000000e+00, 0.000000e+00, 0.000000e+00,\n",
       "        0.000000e+00, 0.000000e+00, 0.000000e+00, 0.000000e+00,\n",
       "        0.000000e+00, 0.000000e+00, 0.000000e+00, 0.000000e+00,\n",
       "        0.000000e+00, 0.000000e+00, 0.000000e+00, 0.000000e+00,\n",
       "        0.000000e+00, 0.000000e+00, 0.000000e+00, 0.000000e+00,\n",
       "        0.000000e+00, 0.000000e+00, 0.000000e+00, 0.000000e+00,\n",
       "        0.000000e+00, 0.000000e+00, 0.000000e+00, 0.000000e+00,\n",
       "        0.000000e+00, 0.000000e+00, 0.000000e+00, 0.000000e+00,\n",
       "        0.000000e+00, 0.000000e+00, 0.000000e+00, 0.000000e+00,\n",
       "        0.000000e+00, 0.000000e+00, 0.000000e+00, 0.000000e+00,\n",
       "        0.000000e+00, 0.000000e+00, 0.000000e+00, 0.000000e+00,\n",
       "        0.000000e+00, 0.000000e+00, 0.000000e+00, 0.000000e+00,\n",
       "        0.000000e+00, 0.000000e+00, 0.000000e+00, 0.000000e+00,\n",
       "        0.000000e+00, 0.000000e+00, 0.000000e+00, 0.000000e+00,\n",
       "        0.000000e+00, 0.000000e+00, 0.000000e+00, 0.000000e+00,\n",
       "        0.000000e+00, 0.000000e+00, 0.000000e+00, 0.000000e+00,\n",
       "        0.000000e+00, 0.000000e+00, 0.000000e+00, 0.000000e+00,\n",
       "        0.000000e+00, 0.000000e+00, 0.000000e+00, 0.000000e+00,\n",
       "        0.000000e+00, 0.000000e+00, 0.000000e+00, 0.000000e+00,\n",
       "        0.000000e+00, 0.000000e+00, 0.000000e+00, 0.000000e+00,\n",
       "        0.000000e+00, 0.000000e+00, 0.000000e+00, 0.000000e+00,\n",
       "        0.000000e+00, 0.000000e+00, 0.000000e+00, 0.000000e+00,\n",
       "        0.000000e+00, 0.000000e+00, 0.000000e+00, 0.000000e+00,\n",
       "        0.000000e+00, 0.000000e+00, 0.000000e+00, 0.000000e+00,\n",
       "        0.000000e+00, 0.000000e+00, 0.000000e+00, 0.000000e+00,\n",
       "        0.000000e+00, 0.000000e+00, 0.000000e+00, 0.000000e+00,\n",
       "        0.000000e+00, 0.000000e+00, 0.000000e+00, 0.000000e+00,\n",
       "        0.000000e+00, 0.000000e+00, 0.000000e+00, 0.000000e+00,\n",
       "        0.000000e+00, 0.000000e+00, 0.000000e+00, 0.000000e+00,\n",
       "        0.000000e+00, 0.000000e+00, 0.000000e+00, 0.000000e+00,\n",
       "        0.000000e+00, 0.000000e+00, 0.000000e+00, 0.000000e+00,\n",
       "        0.000000e+00, 0.000000e+00, 0.000000e+00, 0.000000e+00,\n",
       "        0.000000e+00, 0.000000e+00, 0.000000e+00, 0.000000e+00,\n",
       "        0.000000e+00, 0.000000e+00, 0.000000e+00, 0.000000e+00,\n",
       "        0.000000e+00, 0.000000e+00, 0.000000e+00, 0.000000e+00,\n",
       "        0.000000e+00, 0.000000e+00, 0.000000e+00, 0.000000e+00,\n",
       "        0.000000e+00, 0.000000e+00, 0.000000e+00, 0.000000e+00,\n",
       "        0.000000e+00, 0.000000e+00, 0.000000e+00, 0.000000e+00,\n",
       "        0.000000e+00, 0.000000e+00, 0.000000e+00, 0.000000e+00,\n",
       "        0.000000e+00, 0.000000e+00, 0.000000e+00, 0.000000e+00,\n",
       "        0.000000e+00, 0.000000e+00, 0.000000e+00, 0.000000e+00,\n",
       "        0.000000e+00, 0.000000e+00, 0.000000e+00, 0.000000e+00,\n",
       "        0.000000e+00, 0.000000e+00, 0.000000e+00, 0.000000e+00,\n",
       "        0.000000e+00, 0.000000e+00, 0.000000e+00, 0.000000e+00,\n",
       "        0.000000e+00, 0.000000e+00, 0.000000e+00, 0.000000e+00,\n",
       "        0.000000e+00, 0.000000e+00, 0.000000e+00, 0.000000e+00,\n",
       "        0.000000e+00, 0.000000e+00, 0.000000e+00, 0.000000e+00,\n",
       "        0.000000e+00, 0.000000e+00, 0.000000e+00, 0.000000e+00,\n",
       "        0.000000e+00, 0.000000e+00, 0.000000e+00, 0.000000e+00,\n",
       "        0.000000e+00, 0.000000e+00, 0.000000e+00, 0.000000e+00,\n",
       "        0.000000e+00, 0.000000e+00, 0.000000e+00, 0.000000e+00,\n",
       "        0.000000e+00, 0.000000e+00, 0.000000e+00, 0.000000e+00,\n",
       "        0.000000e+00, 0.000000e+00, 0.000000e+00, 0.000000e+00,\n",
       "        0.000000e+00, 0.000000e+00, 0.000000e+00, 0.000000e+00,\n",
       "        0.000000e+00, 0.000000e+00, 0.000000e+00, 0.000000e+00,\n",
       "        0.000000e+00, 0.000000e+00, 0.000000e+00, 0.000000e+00,\n",
       "        0.000000e+00, 0.000000e+00, 0.000000e+00, 0.000000e+00,\n",
       "        0.000000e+00, 0.000000e+00, 0.000000e+00, 0.000000e+00,\n",
       "        0.000000e+00, 0.000000e+00, 0.000000e+00, 1.000000e+00]),\n",
       " array([-1186.76   , -1183.70126, -1180.64252, ...,  1865.86252,\n",
       "         1868.92126,  1871.98   ]),\n",
       " <a list of 1000 Patch objects>)"
      ]
     },
     "execution_count": 32,
     "metadata": {},
     "output_type": "execute_result"
    },
    {
     "data": {
      "image/png": "[encoded data removed]",
      "text/plain": [
       "<Figure size 432x288 with 1 Axes>"
      ]
     },
     "metadata": {
      "needs_background": "light"
     },
     "output_type": "display_data"
    }
   ],
   "source": [
    "returns = dfc[\"returns\"]\n",
    "plt.hist(returns, bins=1000)"
   ]
  },
  {
   "cell_type": "markdown",
   "metadata": {},
   "source": [
    "# ZOOMING IN TO GET A BETTER VIEW"
   ]
  },
  {
   "cell_type": "code",
   "execution_count": 33,
   "metadata": {},
   "outputs": [
    {
     "data": {
      "text/plain": [
       "(0, 150000)"
      ]
     },
     "execution_count": 33,
     "metadata": {},
     "output_type": "execute_result"
    },
    {
     "data": {
      "image/png": "[encoded data removed]",
      "text/plain": [
       "<Figure size 432x288 with 1 Axes>"
      ]
     },
     "metadata": {
      "needs_background": "light"
     },
     "output_type": "display_data"
    }
   ],
   "source": [
    "plt.hist(returns, bins=1000)\n",
    "plt.xlim([-250, 250])\n",
    "plt.ylim([0, 150000])"
   ]
  },
  {
   "cell_type": "markdown",
   "metadata": {},
   "source": [
    "As we can see this histogram has a similarity to the laplace distribution"
   ]
  },
  {
   "cell_type": "markdown",
   "metadata": {},
   "source": [
    "# OVERLAYING GRAPH WITH LAPLACE DISTRIBUTION"
   ]
  },
  {
   "cell_type": "code",
   "execution_count": 34,
   "metadata": {},
   "outputs": [
    {
     "name": "stderr",
     "output_type": "stream",
     "text": [
      "C:\\Users\\bodic\\Anaconda3\\lib\\site-packages\\scipy\\stats\\_distn_infrastructure.py:1615: RuntimeWarning: divide by zero encountered in log\n",
      "  return log(self._pdf(x, *args))\n"
     ]
    },
    {
     "data": {
      "text/plain": [
       "[<matplotlib.lines.Line2D at 0x25db68edf60>]"
      ]
     },
     "execution_count": 34,
     "metadata": {},
     "output_type": "execute_result"
    },
    {
     "data": {
      "image/png": "[encoded data removed]",
      "text/plain": [
       "<Figure size 432x288 with 1 Axes>"
      ]
     },
     "metadata": {
      "needs_background": "light"
     },
     "output_type": "display_data"
    }
   ],
   "source": [
    "import numpy as np\n",
    "import scipy.stats as stats\n",
    "import seaborn as sns\n",
    "import matplotlib.pyplot as plt\n",
    "\n",
    "plt.hist(returns, bins=1000)\n",
    "plt.xlim([-250, 250])\n",
    "plt.ylim([0, 150000])\n",
    "\n",
    "x = np.linspace(-250, 250, 1000)\n",
    "\n",
    "mu, b = stats.laplace.fit(returns)\n",
    "# Calculate the y values for the Laplace distribution curve\n",
    "y = stats.laplace.pdf(x, loc=mu, scale=b) * len(returns) * (x[1] - x[0])\n",
    "\n",
    "# Plot the Laplace distribution curve on top of the histogram\n",
    "plt.plot(x, y, 'g--', linewidth=2)"
   ]
  },
  {
   "cell_type": "markdown",
   "metadata": {},
   "source": [
    "Now with the laplace distribution line overlayed, we can clearly sea that it follows the laplace distribution"
   ]
  },
  {
   "cell_type": "markdown",
   "metadata": {},
   "source": [
    "# ITEM #2"
   ]
  },
  {
   "cell_type": "code",
   "execution_count": 40,
   "metadata": {},
   "outputs": [
    {
     "data": {
      "text/html": [
       "<div>\n",
       "<style scoped>\n",
       "    .dataframe tbody tr th:only-of-type {\n",
       "        vertical-align: middle;\n",
       "    }\n",
       "\n",
       "    .dataframe tbody tr th {\n",
       "        vertical-align: top;\n",
       "    }\n",
       "\n",
       "    .dataframe thead th {\n",
       "        text-align: right;\n",
       "    }\n",
       "</style>\n",
       "<table border=\"1\" class=\"dataframe\">\n",
       "  <thead>\n",
       "    <tr style=\"text-align: right;\">\n",
       "      <th></th>\n",
       "      <th>Unix Timestamp</th>\n",
       "      <th>Date</th>\n",
       "      <th>Symbol</th>\n",
       "      <th>Open</th>\n",
       "      <th>High</th>\n",
       "      <th>Low</th>\n",
       "      <th>Close</th>\n",
       "      <th>Volume</th>\n",
       "    </tr>\n",
       "  </thead>\n",
       "  <tbody>\n",
       "    <tr>\n",
       "      <th>0</th>\n",
       "      <td>1586995200000</td>\n",
       "      <td>2020-04-16 00:00:00</td>\n",
       "      <td>ETHUSD</td>\n",
       "      <td>152.94</td>\n",
       "      <td>152.94</td>\n",
       "      <td>151.33</td>\n",
       "      <td>151.33</td>\n",
       "      <td>112.724931</td>\n",
       "    </tr>\n",
       "    <tr>\n",
       "      <th>1</th>\n",
       "      <td>1586995140000</td>\n",
       "      <td>2020-04-15 23:59:00</td>\n",
       "      <td>ETHUSD</td>\n",
       "      <td>152.94</td>\n",
       "      <td>152.94</td>\n",
       "      <td>152.94</td>\n",
       "      <td>152.94</td>\n",
       "      <td>0.000000</td>\n",
       "    </tr>\n",
       "  </tbody>\n",
       "</table>\n",
       "</div>"
      ],
      "text/plain": [
       "   Unix Timestamp                 Date  Symbol    Open    High     Low  \\\n",
       "0   1586995200000  2020-04-16 00:00:00  ETHUSD  152.94  152.94  151.33   \n",
       "1   1586995140000  2020-04-15 23:59:00  ETHUSD  152.94  152.94  152.94   \n",
       "\n",
       "    Close      Volume  \n",
       "0  151.33  112.724931  \n",
       "1  152.94    0.000000  "
      ]
     },
     "metadata": {},
     "output_type": "display_data"
    }
   ],
   "source": [
    "dfe=pd.read_csv(\"C:/SA2/ETH.csv\")\n",
    "display(dfe.head(2))"
   ]
  },
  {
   "cell_type": "markdown",
   "metadata": {},
   "source": [
    "# GETTING DATA EVERY 5 MIN"
   ]
  },
  {
   "cell_type": "code",
   "execution_count": 44,
   "metadata": {},
   "outputs": [
    {
     "data": {
      "text/html": [
       "<div>\n",
       "<style scoped>\n",
       "    .dataframe tbody tr th:only-of-type {\n",
       "        vertical-align: middle;\n",
       "    }\n",
       "\n",
       "    .dataframe tbody tr th {\n",
       "        vertical-align: top;\n",
       "    }\n",
       "\n",
       "    .dataframe thead th {\n",
       "        text-align: right;\n",
       "    }\n",
       "</style>\n",
       "<table border=\"1\" class=\"dataframe\">\n",
       "  <thead>\n",
       "    <tr style=\"text-align: right;\">\n",
       "      <th></th>\n",
       "      <th>Unix Timestamp</th>\n",
       "      <th>Date</th>\n",
       "      <th>Symbol</th>\n",
       "      <th>Open</th>\n",
       "      <th>High</th>\n",
       "      <th>Low</th>\n",
       "      <th>Close</th>\n",
       "      <th>Volume</th>\n",
       "    </tr>\n",
       "  </thead>\n",
       "  <tbody>\n",
       "    <tr>\n",
       "      <th>0</th>\n",
       "      <td>1586995200000</td>\n",
       "      <td>2020-04-16 00:00:00</td>\n",
       "      <td>ETHUSD</td>\n",
       "      <td>152.94</td>\n",
       "      <td>152.94</td>\n",
       "      <td>151.33</td>\n",
       "      <td>151.33</td>\n",
       "      <td>112.724931</td>\n",
       "    </tr>\n",
       "    <tr>\n",
       "      <th>5</th>\n",
       "      <td>1586994900000</td>\n",
       "      <td>2020-04-15 23:55:00</td>\n",
       "      <td>ETHUSD</td>\n",
       "      <td>153.25</td>\n",
       "      <td>153.25</td>\n",
       "      <td>153.13</td>\n",
       "      <td>153.14</td>\n",
       "      <td>15.993960</td>\n",
       "    </tr>\n",
       "    <tr>\n",
       "      <th>10</th>\n",
       "      <td>1586994600000</td>\n",
       "      <td>2020-04-15 23:50:00</td>\n",
       "      <td>ETHUSD</td>\n",
       "      <td>153.05</td>\n",
       "      <td>153.22</td>\n",
       "      <td>153.05</td>\n",
       "      <td>153.22</td>\n",
       "      <td>2.700000</td>\n",
       "    </tr>\n",
       "    <tr>\n",
       "      <th>15</th>\n",
       "      <td>1586994300000</td>\n",
       "      <td>2020-04-15 23:45:00</td>\n",
       "      <td>ETHUSD</td>\n",
       "      <td>153.29</td>\n",
       "      <td>153.29</td>\n",
       "      <td>153.25</td>\n",
       "      <td>153.25</td>\n",
       "      <td>0.374382</td>\n",
       "    </tr>\n",
       "    <tr>\n",
       "      <th>20</th>\n",
       "      <td>1586994000000</td>\n",
       "      <td>2020-04-15 23:40:00</td>\n",
       "      <td>ETHUSD</td>\n",
       "      <td>153.23</td>\n",
       "      <td>153.23</td>\n",
       "      <td>153.23</td>\n",
       "      <td>153.23</td>\n",
       "      <td>0.000000</td>\n",
       "    </tr>\n",
       "  </tbody>\n",
       "</table>\n",
       "</div>"
      ],
      "text/plain": [
       "    Unix Timestamp                 Date  Symbol    Open    High     Low  \\\n",
       "0    1586995200000  2020-04-16 00:00:00  ETHUSD  152.94  152.94  151.33   \n",
       "5    1586994900000  2020-04-15 23:55:00  ETHUSD  153.25  153.25  153.13   \n",
       "10   1586994600000  2020-04-15 23:50:00  ETHUSD  153.05  153.22  153.05   \n",
       "15   1586994300000  2020-04-15 23:45:00  ETHUSD  153.29  153.29  153.25   \n",
       "20   1586994000000  2020-04-15 23:40:00  ETHUSD  153.23  153.23  153.23   \n",
       "\n",
       "     Close      Volume  \n",
       "0   151.33  112.724931  \n",
       "5   153.14   15.993960  \n",
       "10  153.22    2.700000  \n",
       "15  153.25    0.374382  \n",
       "20  153.23    0.000000  "
      ]
     },
     "metadata": {},
     "output_type": "display_data"
    }
   ],
   "source": [
    "dfe_5min = dfe[::5]  \n",
    "display(dfe_5min.head(5))"
   ]
  },
  {
   "cell_type": "markdown",
   "metadata": {},
   "source": [
    "# ADDING RETURNS COLUMN"
   ]
  },
  {
   "cell_type": "code",
   "execution_count": 45,
   "metadata": {},
   "outputs": [
    {
     "name": "stderr",
     "output_type": "stream",
     "text": [
      "C:\\Users\\bodic\\Anaconda3\\lib\\site-packages\\ipykernel_launcher.py:1: SettingWithCopyWarning: \n",
      "A value is trying to be set on a copy of a slice from a DataFrame.\n",
      "Try using .loc[row_indexer,col_indexer] = value instead\n",
      "\n",
      "See the caveats in the documentation: http://pandas.pydata.org/pandas-docs/stable/indexing.html#indexing-view-versus-copy\n",
      "  \"\"\"Entry point for launching an IPython kernel.\n"
     ]
    },
    {
     "data": {
      "text/html": [
       "<div>\n",
       "<style scoped>\n",
       "    .dataframe tbody tr th:only-of-type {\n",
       "        vertical-align: middle;\n",
       "    }\n",
       "\n",
       "    .dataframe tbody tr th {\n",
       "        vertical-align: top;\n",
       "    }\n",
       "\n",
       "    .dataframe thead th {\n",
       "        text-align: right;\n",
       "    }\n",
       "</style>\n",
       "<table border=\"1\" class=\"dataframe\">\n",
       "  <thead>\n",
       "    <tr style=\"text-align: right;\">\n",
       "      <th></th>\n",
       "      <th>Unix Timestamp</th>\n",
       "      <th>Date</th>\n",
       "      <th>Symbol</th>\n",
       "      <th>Open</th>\n",
       "      <th>High</th>\n",
       "      <th>Low</th>\n",
       "      <th>Close</th>\n",
       "      <th>Volume</th>\n",
       "      <th>returns</th>\n",
       "    </tr>\n",
       "  </thead>\n",
       "  <tbody>\n",
       "    <tr>\n",
       "      <th>0</th>\n",
       "      <td>1586995200000</td>\n",
       "      <td>2020-04-16 00:00:00</td>\n",
       "      <td>ETHUSD</td>\n",
       "      <td>152.94</td>\n",
       "      <td>152.94</td>\n",
       "      <td>151.33</td>\n",
       "      <td>151.33</td>\n",
       "      <td>112.724931</td>\n",
       "      <td>1.61</td>\n",
       "    </tr>\n",
       "    <tr>\n",
       "      <th>5</th>\n",
       "      <td>1586994900000</td>\n",
       "      <td>2020-04-15 23:55:00</td>\n",
       "      <td>ETHUSD</td>\n",
       "      <td>153.25</td>\n",
       "      <td>153.25</td>\n",
       "      <td>153.13</td>\n",
       "      <td>153.14</td>\n",
       "      <td>15.993960</td>\n",
       "      <td>0.11</td>\n",
       "    </tr>\n",
       "    <tr>\n",
       "      <th>10</th>\n",
       "      <td>1586994600000</td>\n",
       "      <td>2020-04-15 23:50:00</td>\n",
       "      <td>ETHUSD</td>\n",
       "      <td>153.05</td>\n",
       "      <td>153.22</td>\n",
       "      <td>153.05</td>\n",
       "      <td>153.22</td>\n",
       "      <td>2.700000</td>\n",
       "      <td>-0.17</td>\n",
       "    </tr>\n",
       "    <tr>\n",
       "      <th>15</th>\n",
       "      <td>1586994300000</td>\n",
       "      <td>2020-04-15 23:45:00</td>\n",
       "      <td>ETHUSD</td>\n",
       "      <td>153.29</td>\n",
       "      <td>153.29</td>\n",
       "      <td>153.25</td>\n",
       "      <td>153.25</td>\n",
       "      <td>0.374382</td>\n",
       "      <td>0.04</td>\n",
       "    </tr>\n",
       "    <tr>\n",
       "      <th>20</th>\n",
       "      <td>1586994000000</td>\n",
       "      <td>2020-04-15 23:40:00</td>\n",
       "      <td>ETHUSD</td>\n",
       "      <td>153.23</td>\n",
       "      <td>153.23</td>\n",
       "      <td>153.23</td>\n",
       "      <td>153.23</td>\n",
       "      <td>0.000000</td>\n",
       "      <td>0.00</td>\n",
       "    </tr>\n",
       "  </tbody>\n",
       "</table>\n",
       "</div>"
      ],
      "text/plain": [
       "    Unix Timestamp                 Date  Symbol    Open    High     Low  \\\n",
       "0    1586995200000  2020-04-16 00:00:00  ETHUSD  152.94  152.94  151.33   \n",
       "5    1586994900000  2020-04-15 23:55:00  ETHUSD  153.25  153.25  153.13   \n",
       "10   1586994600000  2020-04-15 23:50:00  ETHUSD  153.05  153.22  153.05   \n",
       "15   1586994300000  2020-04-15 23:45:00  ETHUSD  153.29  153.29  153.25   \n",
       "20   1586994000000  2020-04-15 23:40:00  ETHUSD  153.23  153.23  153.23   \n",
       "\n",
       "     Close      Volume  returns  \n",
       "0   151.33  112.724931     1.61  \n",
       "5   153.14   15.993960     0.11  \n",
       "10  153.22    2.700000    -0.17  \n",
       "15  153.25    0.374382     0.04  \n",
       "20  153.23    0.000000     0.00  "
      ]
     },
     "metadata": {},
     "output_type": "display_data"
    }
   ],
   "source": [
    "dfe_5min[\"returns\"] = dfe_5min[\"Open\"] - dfe_5min[\"Close\"]\n",
    "display(dfe_5min.head(5))"
   ]
  },
  {
   "cell_type": "markdown",
   "metadata": {},
   "source": [
    "# PLOTTING"
   ]
  },
  {
   "cell_type": "code",
   "execution_count": 52,
   "metadata": {},
   "outputs": [
    {
     "data": {
      "text/plain": [
       "(0, 15000)"
      ]
     },
     "execution_count": 52,
     "metadata": {},
     "output_type": "execute_result"
    },
    {
     "data": {
      "image/png": "[encoded data removed]",
      "text/plain": [
       "<Figure size 432x288 with 1 Axes>"
      ]
     },
     "metadata": {
      "needs_background": "light"
     },
     "output_type": "display_data"
    }
   ],
   "source": [
    "ethreturns = dfe_5min[\"returns\"]\n",
    "plt.hist(ethreturns, bins=1000)\n",
    "plt.xlim([-25, 25])\n",
    "plt.ylim([0, 15000])"
   ]
  },
  {
   "cell_type": "markdown",
   "metadata": {},
   "source": [
    "# TESTING FOR SHAPIRO-WILK NORMALITY TEST"
   ]
  },
  {
   "cell_type": "code",
   "execution_count": 55,
   "metadata": {},
   "outputs": [
    {
     "name": "stdout",
     "output_type": "stream",
     "text": [
      "The data is not normally distributed (reject H0)\n",
      "Statistic: 0.3699, p-value: 0.0000\n"
     ]
    },
    {
     "name": "stderr",
     "output_type": "stream",
     "text": [
      "C:\\Users\\bodic\\Anaconda3\\lib\\site-packages\\scipy\\stats\\morestats.py:1309: UserWarning: p-value may not be accurate for N > 5000.\n",
      "  warnings.warn(\"p-value may not be accurate for N > 5000.\")\n"
     ]
    }
   ],
   "source": [
    "import pandas as pd\n",
    "import matplotlib.pyplot as plt\n",
    "from scipy.stats import shapiro\n",
    "\n",
    "statistic, pvalue = shapiro(dfe_5min['returns'])\n",
    "\n",
    "if pvalue < 0.05:\n",
    "    print(\"The data is not normally distributed (reject H0)\")\n",
    "else:\n",
    "    print(\"The data is normally distributed (fail to reject H0)\")\n",
    "print(f\"Statistic: {statistic:.4f}, p-value: {pvalue:.4f}\")"
   ]
  },
  {
   "cell_type": "code",
   "execution_count": null,
   "metadata": {},
   "outputs": [],
   "source": []
  }
 ],
 "metadata": {
  "kernelspec": {
   "display_name": "Python 3",
   "language": "python",
   "name": "python3"
  },
  "language_info": {
   "codemirror_mode": {
    "name": "ipython",
    "version": 3
   },
   "file_extension": ".py",
   "mimetype": "text/x-python",
   "name": "python",
   "nbconvert_exporter": "python",
   "pygments_lexer": "ipython3",
   "version": "3.7.0"
  }
 },
 "nbformat": 4,
 "nbformat_minor": 2
}
